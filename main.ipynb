{
 "cells": [
  {
   "cell_type": "markdown",
   "metadata": {},
   "source": [
    "Dans ce projet, nous voudrions analyser quelques KPIs indiquant la santé d’un fabricant de produits de consomma-\n",
    "tion publique sur le marché le concernant. Notre jeu de données vient d’un API distant installé sur le port 1353 à\n",
    "l’adresse http://******/, et servant uniquement deux routes: logProduits et logAccordsVente.\n",
    "La structure des valeurs retournées par ces routes sont des informations datées concernant les identifiants du\n",
    "produit:\n",
    "• enregistrement d’un produit .../logProduits/<int:logID>/ retourne cinq valeurs qui sont, respec-\n",
    "tivement: logID le numéro d’identification unique de la ligne de log; prodID le numéro d’identification\n",
    "du produit concerné; catID le numéro d’identification de la catégorie du produit concerné; fabID le\n",
    "numéro d’identification du fabricant du produit concerné; et dateID le numéro d’identification de la date\n",
    "d’enregistrement de la ligne de log.\n",
    "• enregistrement d’un accord de vente .../logAccordsVente/<int:logID>/ retourne six valeurs qui sont,\n",
    "respectivement: logID le numéro d’identification unique de la ligne de log; prodID le numéro d’identification\n",
    "du produit concerné; catID le numéro d’identification de la catégorie du produit concerné; fabID le numéro\n",
    "d’identification du fabricant du produit concerné; magID le numéro d’identification du magasin avec qui le\n",
    "fabricant du produit a passé un accord de vente concernant ce produit; et dateID le numéro d’identification\n",
    "de la date d’enregistrement de la ligne de log."
   ]
  },
  {
   "cell_type": "markdown",
   "metadata": {},
   "source": [
    "## L’énoncé du projet\n",
    "Il s’agit de construire un tableau de bord (dashbord) contenant des indicateurs de performance (Key Performance\n",
    "Indicators) en relation avec les indices de leadership du marché d’un fabricant, classés par catégorie de produits\n",
    "qu’il fabrique. Ces indicateurs sont à étudier depuis le 1er Janvier 2022 et a pour durée un an environ.\n",
    "L’objectif principal de ce tableau de bord est, prenant en argument un identifiant de fabricant fabID, afficher\n",
    "l’ensemble des scores de santé de ses produits, classé par toutes les catégories dans lesquelles ce fabricant est\n",
    "acteur sur le marché. En particulier, ce tableau de bord doit répondre aux questions suivantes:\n",
    "\n",
    "#### Question 1.1 (nombre de concurrents). Pour la catégorie d’identifiant 5, combien y a t il d’acteurs sur le marché ayant un produit de cette catégorie?"
   ]
  },
  {
   "cell_type": "code",
   "execution_count": 11,
   "metadata": {},
   "outputs": [
    {
     "name": "stdout",
     "output_type": "stream",
     "text": [
      "Done\n"
     ]
    }
   ],
   "source": [
    "import sqlite3\n",
    "\n",
    "con = sqlite3.connect(\"./db/analytics.db\")\n",
    "cur = con.cursor()\n",
    "# logId, dateId, prodId, catId, fabId\n",
    "cur.execute('''\n",
    "    CREATE TABLE IF NOT EXISTS products (\n",
    "        logID INTEGER PRIMARY KEY AUTOINCREMENT,\n",
    "        dateID INTEGER,\n",
    "        prodID INTEGER,\n",
    "        catID INTEGER,\n",
    "        fabID INTEGER\n",
    "    )\n",
    "''')\n",
    "con.commit()\n",
    "\n",
    "# logId, dateId, prodId, catId, fabId, magId\n",
    "\n",
    "cur.execute('''\n",
    "    CREATE TABLE IF NOT EXISTS categories (\n",
    "        logID INTEGER PRIMARY KEY AUTOINCREMENT,\n",
    "        dateID INTEGER,\n",
    "        prodID INTEGER,\n",
    "        catID INTEGER,\n",
    "        fabID INTEGER,\n",
    "        magID INTEGER\n",
    "    )            \n",
    "''')\n",
    "con.commit()\n",
    "\n",
    "cur.execute(\"SELECT COUNT(*) FROM products\")\n",
    "count = cur.fetchone()[0]\n",
    "\n",
    "if count == 0:\n",
    "    print(\"Database is empty\")\n",
    "\n",
    "    with open('../data/pointsDeVente-tous', 'r') as data_file:\n",
    "        for line in data_file:\n",
    "            parts = line.strip().split()\n",
    "            if len(parts) == 4:\n",
    "                dateID, prodID, catID, fabID = map(int, parts)\n",
    "                cur.execute(\"INSERT INTO products (dateID, prodID, catID, fabID) VALUES (?, ?, ?, ?)\",\n",
    "                            (dateID, prodID, catID, fabID))\n",
    "                con.commit()\n",
    "\n",
    "cur.execute(\"SELECT COUNT(*) FROM categories\")\n",
    "count = cur.fetchone()[0]\n",
    "\n",
    "if count == 0:\n",
    "    print(\"Database is empty\")\n",
    "\n",
    "    with open('../data/pointsDeVente-tous', 'r') as data_file:\n",
    "        for line in data_file:\n",
    "            parts = line.strip().split()\n",
    "            if len(parts) == 5:\n",
    "                dateID, prodID, catID, fabID, magID = map(int, parts)\n",
    "                cur.execute(\"INSERT INTO categories (dateID, prodID, catID, fabID, magID) VALUES (?, ?, ?, ?, ?)\",\n",
    "                            (dateID, prodID, catID, fabID, magID))\n",
    "                con.commit()\n",
    "\n",
    "con.close()\n",
    "print(\"Done\")\n"
   ]
  },
  {
   "cell_type": "code",
   "execution_count": 21,
   "metadata": {},
   "outputs": [],
   "source": [
    "import sqlite3\n",
    "import datetime\n",
    "con = sqlite3.connect(\"./db/analytics.db\")\n",
    "cur = con.cursor()\n",
    "catId = 5\n"
   ]
  },
  {
   "cell_type": "markdown",
   "metadata": {},
   "source": [
    "#### Question 1.1 (nombre de concurrents). Pour la catégorie d’identifiant 5, combien y a t il d’acteurs sur le marché ayant un produit de cette catégorie?"
   ]
  },
  {
   "cell_type": "code",
   "execution_count": 24,
   "metadata": {},
   "outputs": [
    {
     "name": "stdout",
     "output_type": "stream",
     "text": [
      "Total acotrs  223\n"
     ]
    }
   ],
   "source": [
    "reuslt = cur.execute(\"SELECT * FROM categories WHERE catID = ? GROUP BY fabId  \", (catId,)).fetchall()\n",
    "total = len (reuslt)\n",
    "print ('Total acotrs ', total)"
   ]
  },
  {
   "cell_type": "markdown",
   "metadata": {},
   "source": [
    "#### Pour la catégorie d’identifiant 5, quel est en moyenne le nombre de produits qu’un fabricant offre sur le marché?"
   ]
  },
  {
   "cell_type": "code",
   "execution_count": 43,
   "metadata": {},
   "outputs": [
    {
     "name": "stdout",
     "output_type": "stream",
     "text": [
      "Total acotrs  [(2, 1), (14, 1), (21, 1), (26, 1), (41, 1), (64, 1), (68, 1), (75, 1), (108, 1), (123, 1), (135, 1), (138, 1), (153, 1), (181, 1), (208, 1), (209, 1), (214, 1), (222, 1), (240, 1), (314, 1), (318, 1), (345, 1), (351, 1), (399, 1), (415, 1), (425, 1), (426, 1), (440, 1), (441, 1), (443, 1), (467, 1), (483, 1), (484, 1), (500, 1), (503, 1), (506, 1), (509, 1), (510, 1), (515, 2), (517, 1), (519, 1), (522, 1), (523, 2), (524, 1), (525, 1), (526, 4), (527, 4), (528, 1), (530, 1), (533, 1), (534, 1), (536, 2), (537, 3), (538, 1), (539, 2), (542, 2), (543, 3), (544, 2), (550, 1), (551, 2), (552, 2), (553, 1), (554, 2), (555, 1), (557, 1), (558, 1), (559, 2), (561, 1), (562, 1), (565, 2), (566, 1), (571, 2), (572, 2), (573, 1), (574, 1), (577, 2), (578, 2), (581, 1), (582, 1), (586, 1), (588, 1), (590, 3), (591, 2), (592, 2), (594, 1), (597, 1), (599, 1), (600, 1), (601, 1), (603, 1), (605, 1), (606, 2), (607, 1), (608, 1), (609, 1), (613, 2), (615, 1), (616, 2), (618, 2), (623, 3), (624, 1), (625, 1), (627, 1), (628, 1), (629, 1), (630, 1), (631, 1), (633, 1), (634, 2), (635, 1), (636, 1), (639, 1), (646, 1), (647, 1), (650, 2), (651, 1), (652, 1), (653, 1), (654, 3), (656, 3), (657, 2), (658, 2), (660, 1), (661, 2), (662, 1), (665, 1), (666, 3), (668, 2), (669, 1), (670, 2), (671, 1), (673, 1), (675, 1), (676, 1), (677, 2), (678, 2), (679, 2), (684, 1), (685, 1), (686, 1), (687, 1), (690, 1), (692, 1), (693, 1), (694, 1), (695, 1), (697, 3), (698, 1), (700, 2), (701, 1), (702, 1), (703, 1), (707, 3), (708, 1), (709, 1), (711, 1), (712, 2), (713, 1), (715, 1), (717, 1), (719, 1), (720, 4), (721, 1), (722, 1), (725, 1), (726, 1), (727, 1), (728, 1), (729, 1), (730, 1), (731, 1), (734, 2), (735, 1), (736, 1), (739, 1), (741, 1), (742, 2), (744, 2), (745, 1), (747, 1), (751, 1), (752, 1), (753, 1), (754, 2), (755, 1), (756, 2), (757, 2), (759, 1), (760, 1), (763, 1), (765, 1), (767, 1), (770, 2), (771, 1), (773, 1), (775, 2), (777, 3), (778, 1), (779, 2), (780, 1), (785, 3), (787, 1), (790, 1), (793, 1), (794, 1), (798, 1), (804, 1), (805, 1), (836, 1), (839, 1), (856, 1), (864, 1), (870, 1), (877, 1), (896, 1), (899, 1), (915, 1), (936, 1), (948, 1), (965, 1), (971, 1), (980, 1), (999, 1)]\n",
      "Average products  1.3273542600896862\n"
     ]
    }
   ],
   "source": [
    "reuslt = cur.execute(\"SELECT fabId, COUNT(DISTINCT prodID) FROM categories WHERE catID = ? GROUP BY fabId  ORDER BY fabId\", (catId,)).fetchall()\n",
    "print ('Total acotrs ', reuslt)\n",
    "print ('Average products ', sum([x[1] for x in reuslt]) / len(reuslt))"
   ]
  },
  {
   "cell_type": "markdown",
   "metadata": {},
   "source": [
    "#### Quels sont le top 10 des magasins parmi les magID enregistrés dans la base? N.B.: il faut définir formellement la notion d’être dans le top 10."
   ]
  },
  {
   "cell_type": "code",
   "execution_count": 41,
   "metadata": {},
   "outputs": [
    {
     "name": "stdout",
     "output_type": "stream",
     "text": [
      "Top 10 magasins  [(60, 2960), (64, 2946), (61, 2936), (65, 2933), (69, 2924), (68, 2915), (66, 2901), (63, 2888), (62, 2877), (67, 2865)]\n"
     ]
    }
   ],
   "source": [
    "reuslt = cur.execute(\"SELECT magID, COUNT(*) FROM categories GROUP BY magID ORDER BY COUNT(*) DESC LIMIT 10\").fetchall() # number of products\n",
    "print ('Top 10 magasins ', reuslt)\n"
   ]
  },
  {
   "cell_type": "markdown",
   "metadata": {},
   "source": [
    "\n",
    "#### Pour le fabricant d’identifiant 1664, et parmi le top 10 des magasins vendant les produits de la catégorie d’identifiant 5, quel est en moyenne la part du nombre de produits qu’offre le fabricant 1664 dans l’ensemble des produits de catégorie 5 en vente dans ces magasins?\n"
   ]
  },
  {
   "cell_type": "code",
   "execution_count": 42,
   "metadata": {},
   "outputs": [
    {
     "name": "stdout",
     "output_type": "stream",
     "text": [
      "Top 10 magasins and 1664  [(60, 2960), (64, 2946), (61, 2936), (65, 2933), (69, 2924), (68, 2915), (66, 2901), (63, 2888), (62, 2877), (67, 2865)]\n",
      "Average of the top 10 shops and 1664  2914.5\n"
     ]
    }
   ],
   "source": [
    "shops = reuslt # add 1664\n",
    "\n",
    "reuslt = cur.execute(\"SELECT magID, COUNT(*) FROM categories WHERE fabID = 1664 GROUP BY magID ORDER BY COUNT(*) DESC LIMIT 10\").fetchall()\n",
    "shops.extend(reuslt)\n",
    "print ('Top 10 magasins and 1664 ', shops)\n",
    "\n",
    "print ('Average of the top 10 shops and 1664 is : ', sum([x[1] for x in shops]) / len(shops))"
   ]
  },
  {
   "cell_type": "markdown",
   "metadata": {},
   "source": [
    "#### Pour la catégorie d’identifiant 5, combien y a-t-il d’acteurs sur le marché ayant un produit de cette catégorie en Janvier, en Février, et en Mars?"
   ]
  },
  {
   "cell_type": "code",
   "execution_count": 17,
   "metadata": {},
   "outputs": [
    {
     "name": "stdout",
     "output_type": "stream",
     "text": [
      "Total actors in January, February, and March: 966\n"
     ]
    }
   ],
   "source": [
    "catId = 5\n",
    "start_date = 20220101\n",
    "end_date = 20220331\n",
    "\n",
    "result = cur.execute(\"SELECT DISTINCT fabID FROM products WHERE catID = ? AND dateID BETWEEN ? AND ?\",\n",
    "                     (catId, start_date, end_date)).fetchall()\n",
    "\n",
    "total = len(result)\n",
    "print('Total actors in January, February, and March:', total)\n"
   ]
  },
  {
   "cell_type": "markdown",
   "metadata": {},
   "source": [
    "#### Idem avec des valeurs prises pendant les soldes d’hiver (Janvier)."
   ]
  },
  {
   "cell_type": "code",
   "execution_count": 18,
   "metadata": {},
   "outputs": [
    {
     "name": "stdout",
     "output_type": "stream",
     "text": [
      "Total actors in January: 801\n"
     ]
    }
   ],
   "source": [
    "start_date = 20220101\n",
    "end_date = 20220131\n",
    "\n",
    "result = cur.execute(\"SELECT DISTINCT fabID FROM products WHERE catID = ? AND dateID BETWEEN ? AND ?\",\n",
    "                     (catId, start_date, end_date)).fetchall()\n",
    "\n",
    "total = len(result)\n",
    "print('Total actors in January:', total)"
   ]
  },
  {
   "cell_type": "markdown",
   "metadata": {},
   "source": [
    "\n",
    "#### Idem avec des valeurs prises pendant les soldes d’hiver (Janvier) et celles d’été (Juillet)."
   ]
  },
  {
   "cell_type": "code",
   "execution_count": 19,
   "metadata": {},
   "outputs": [
    {
     "name": "stdout",
     "output_type": "stream",
     "text": [
      "Total actors in January and July (Winter and Summer sales combined): 1584\n"
     ]
    }
   ],
   "source": [
    "start_date_winter = 20220101\n",
    "end_date_winter = 20220131\n",
    "start_date_summer = 20220701\n",
    "end_date_summer = 20220731\n",
    "\n",
    "result_winter = cur.execute(\"SELECT DISTINCT fabID FROM products WHERE catID = ? AND dateID BETWEEN ? AND ?\",\n",
    "                            (catId, start_date_winter, end_date_winter)).fetchall()\n",
    "\n",
    "result_summer = cur.execute(\"SELECT DISTINCT fabID FROM products WHERE catID = ? AND dateID BETWEEN ? AND ?\",\n",
    "                            (catId, start_date_summer, end_date_summer)).fetchall()\n",
    "\n",
    "total_winter = len(result_winter)\n",
    "total_summer = len(result_summer)\n",
    "print('Total actors in January and July (Winter and Summer sales combined):', total_winter + total_summer)"
   ]
  },
  {
   "cell_type": "markdown",
   "metadata": {},
   "source": [
    "\n",
    "#### Idem pour la question 1.4., avec des valeurs prises une fois tous les mois du 1er Janvier 2022 jusqu’au jour du jour.\n",
    "Define the start date as January 1, 2022"
   ]
  },
  {
   "cell_type": "code",
   "execution_count": 20,
   "metadata": {},
   "outputs": [
    {
     "name": "stdout",
     "output_type": "stream",
     "text": [
      "Total actors for each month from January 2022 until today: 1000\n"
     ]
    }
   ],
   "source": [
    "start_date = 20220101\n",
    "current_date = int(datetime.datetime.now().strftime('%Y%m%d'))\n",
    "\n",
    "\n",
    "distinct_fabids = []\n",
    "\n",
    "\n",
    "current_month = int(datetime.datetime.now().strftime('%Y%m')) # https://stackoverflow.com/questions/32490629/getting-todays-date-in-yyyy-mm-dd-in-python\n",
    "while start_date <= current_date:\n",
    "    result = cur.execute(\"SELECT DISTINCT fabID FROM products WHERE catID = ? AND dateID BETWEEN ? AND ?\",\n",
    "                         (catId, start_date, start_date + 31)).fetchall()\n",
    "    \n",
    "    distinct_fabids.extend([fabid[0] for fabid in result])\n",
    "\n",
    "\n",
    "    start_date = int((datetime.datetime.strptime(str(start_date), '%Y%m%d') + datetime.timedelta(days=32)).strftime('%Y%m%d'))\n",
    "\n",
    "total_actors = len(set(distinct_fabids))\n",
    "\n",
    "print('Total actors for each month from January 2022 until today:', total_actors)"
   ]
  }
 ],
 "metadata": {
  "kernelspec": {
   "display_name": ".venv",
   "language": "python",
   "name": "python3"
  },
  "language_info": {
   "codemirror_mode": {
    "name": "ipython",
    "version": 3
   },
   "file_extension": ".py",
   "mimetype": "text/x-python",
   "name": "python",
   "nbconvert_exporter": "python",
   "pygments_lexer": "ipython3",
   "version": "3.11.3"
  },
  "orig_nbformat": 4
 },
 "nbformat": 4,
 "nbformat_minor": 2
}
