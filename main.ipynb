{
 "cells": [
  {
   "cell_type": "markdown",
   "metadata": {},
   "source": [
    "Dans ce projet, nous voudrions analyser quelques KPIs indiquant la santé d’un fabricant de produits de consomma-\n",
    "tion publique sur le marché le concernant. Notre jeu de données vient d’un API distant installé sur le port 1353 à\n",
    "l’adresse http://******/, et servant uniquement deux routes: logProduits et logAccordsVente.\n",
    "La structure des valeurs retournées par ces routes sont des informations datées concernant les identifiants du\n",
    "produit:\n",
    "• enregistrement d’un produit .../logProduits/<int:logID>/ retourne cinq valeurs qui sont, respec-\n",
    "tivement: logID le numéro d’identification unique de la ligne de log; prodID le numéro d’identification\n",
    "du produit concerné; catID le numéro d’identification de la catégorie du produit concerné; fabID le\n",
    "numéro d’identification du fabricant du produit concerné; et dateID le numéro d’identification de la date\n",
    "d’enregistrement de la ligne de log.\n",
    "• enregistrement d’un accord de vente .../logAccordsVente/<int:logID>/ retourne six valeurs qui sont,\n",
    "respectivement: logID le numéro d’identification unique de la ligne de log; prodID le numéro d’identification\n",
    "du produit concerné; catID le numéro d’identification de la catégorie du produit concerné; fabID le numéro\n",
    "d’identification du fabricant du produit concerné; magID le numéro d’identification du magasin avec qui le\n",
    "fabricant du produit a passé un accord de vente concernant ce produit; et dateID le numéro d’identification\n",
    "de la date d’enregistrement de la ligne de log."
   ]
  },
  {
   "cell_type": "markdown",
   "metadata": {},
   "source": [
    "## L’énoncé du projet\n",
    "Il s’agit de construire un tableau de bord (dashbord) contenant des indicateurs de performance (Key Performance\n",
    "Indicators) en relation avec les indices de leadership du marché d’un fabricant, classés par catégorie de produits\n",
    "qu’il fabrique. Ces indicateurs sont à étudier depuis le 1er Janvier 2022 et a pour durée un an environ.\n",
    "L’objectif principal de ce tableau de bord est, prenant en argument un identifiant de fabricant fabID, afficher\n",
    "l’ensemble des scores de santé de ses produits, classé par toutes les catégories dans lesquelles ce fabricant est\n",
    "acteur sur le marché. En particulier, ce tableau de bord doit répondre aux questions suivantes:\n",
    "\n",
    "#### Question 1.1 (nombre de concurrents). Pour la catégorie d’identifiant 5, combien y a t il d’acteurs sur le marché ayant un produit de cette catégorie?"
   ]
  },
  {
   "cell_type": "code",
   "execution_count": 21,
   "metadata": {},
   "outputs": [
    {
     "name": "stdout",
     "output_type": "stream",
     "text": [
      "Done\n"
     ]
    }
   ],
   "source": [
    "import sqlite3\n",
    "\n",
    "con = sqlite3.connect(\"./db/analytics.db\")\n",
    "cur = con.cursor()\n",
    "# logId, dateId, prodId, catId, fabId\n",
    "cur.execute('''\n",
    "    CREATE TABLE IF NOT EXISTS products (\n",
    "        logID INTEGER PRIMARY KEY AUTOINCREMENT,\n",
    "        dateID INTEGER,\n",
    "        prodID INTEGER,\n",
    "        catID INTEGER,\n",
    "        fabID INTEGER\n",
    "    )\n",
    "''')\n",
    "con.commit()\n",
    "\n",
    "# logId, dateId, prodId, catId, fabId, magId\n",
    "\n",
    "cur.execute('''\n",
    "    CREATE TABLE IF NOT EXISTS categories (\n",
    "        logID INTEGER PRIMARY KEY AUTOINCREMENT,\n",
    "        dateID INTEGER,\n",
    "        prodID INTEGER,\n",
    "        catID INTEGER,\n",
    "        fabID INTEGER,\n",
    "        magID INTEGER\n",
    "    )            \n",
    "''')\n",
    "con.commit()\n",
    "\n",
    "cur.execute(\"SELECT COUNT(*) FROM products\")\n",
    "count = cur.fetchone()[0]\n",
    "\n",
    "if count == 0:\n",
    "    print(\"Database is empty\")\n",
    "\n",
    "    with open('../data/pointsDeVente-tous', 'r') as data_file:\n",
    "        for line in data_file:\n",
    "            parts = line.strip().split()\n",
    "            if len(parts) == 4:\n",
    "                dateID, prodID, catID, fabID = map(int, parts)\n",
    "                cur.execute(\"INSERT INTO products (dateID, prodID, catID, fabID) VALUES (?, ?, ?, ?)\",\n",
    "                            (dateID, prodID, catID, fabID))\n",
    "                con.commit()\n",
    "\n",
    "cur.execute(\"SELECT COUNT(*) FROM categories\")\n",
    "count = cur.fetchone()[0]\n",
    "\n",
    "if count == 0:\n",
    "    print(\"Database is empty\")\n",
    "\n",
    "    with open('../data/pointsDeVente-tous', 'r') as data_file:\n",
    "        for line in data_file:\n",
    "            parts = line.strip().split()\n",
    "            if len(parts) == 5:\n",
    "                dateID, prodID, catID, fabID, magID = map(int, parts)\n",
    "                cur.execute(\"INSERT INTO categories (dateID, prodID, catID, fabID, magID) VALUES (?, ?, ?, ?, ?)\",\n",
    "                            (dateID, prodID, catID, fabID, magID))\n",
    "                con.commit()\n",
    "\n",
    "con.close()\n",
    "print(\"Done\")\n"
   ]
  },
  {
   "cell_type": "code",
   "execution_count": 23,
   "metadata": {},
   "outputs": [],
   "source": [
    "import sqlite3\n",
    "import datetime\n",
    "con = sqlite3.connect(\"./db/analytics.db\")\n",
    "cur = con.cursor()\n",
    "catId = 5\n"
   ]
  },
  {
   "cell_type": "markdown",
   "metadata": {},
   "source": [
    "#### Question 1.1 (nombre de concurrents). Pour la catégorie d’identifiant 5, combien y a t il d’acteurs sur le marché ayant un produit de cette catégorie?"
   ]
  },
  {
   "cell_type": "code",
   "execution_count": 5,
   "metadata": {},
   "outputs": [
    {
     "name": "stdout",
     "output_type": "stream",
     "text": [
      "Total acotrs  809\n"
     ]
    }
   ],
   "source": [
    "reuslt = cur.execute(\"SELECT * FROM products WHERE catID = ? GROUP BY fabId  ORDER BY fabId\", (catId,)).fetchall()\n",
    "total = len (reuslt)\n",
    "print ('Total acotrs ', total)"
   ]
  },
  {
   "cell_type": "markdown",
   "metadata": {},
   "source": [
    "#### Pour la catégorie d’identifiant 5, quel est en moyenne le nombre de produits qu’un fabricant offre sur le marché?"
   ]
  },
  {
   "cell_type": "code",
   "execution_count": 30,
   "metadata": {},
   "outputs": [
    {
     "name": "stdout",
     "output_type": "stream",
     "text": [
      "Total acotrs  [(1, 2), (2, 4), (3, 2), (4, 2), (5, 1), (8, 1), (11, 2), (12, 1), (13, 1), (14, 2), (15, 3), (18, 1), (19, 3), (21, 1), (22, 1), (23, 2), (25, 1), (26, 1), (28, 2), (29, 3), (30, 1), (31, 3), (32, 2), (34, 4), (35, 1), (36, 2), (38, 1), (39, 2), (41, 3), (42, 1), (43, 1), (44, 1), (45, 1), (47, 2), (48, 1), (50, 2), (51, 1), (52, 2), (53, 2), (54, 1), (55, 3), (56, 1), (57, 3), (58, 2), (59, 2), (60, 1), (61, 1), (62, 1), (64, 3), (65, 2), (66, 4), (67, 1), (68, 3), (69, 1), (70, 1), (73, 3), (75, 2), (76, 2), (77, 1), (78, 1), (79, 3), (81, 2), (82, 1), (83, 1), (85, 1), (87, 3), (88, 2), (89, 1), (90, 1), (92, 1), (93, 2), (94, 1), (96, 1), (97, 5), (98, 1), (99, 1), (101, 1), (102, 2), (104, 2), (105, 3), (106, 1), (107, 2), (108, 2), (111, 1), (113, 1), (114, 4), (115, 2), (116, 3), (117, 2), (122, 2), (123, 1), (124, 3), (125, 2), (126, 2), (128, 2), (129, 1), (131, 2), (132, 1), (133, 1), (134, 1), (135, 2), (136, 1), (138, 1), (140, 1), (141, 1), (142, 2), (144, 1), (145, 1), (147, 2), (148, 1), (149, 2), (150, 2), (151, 3), (152, 2), (153, 1), (155, 2), (156, 1), (157, 1), (158, 3), (159, 2), (161, 1), (163, 1), (164, 1), (166, 2), (167, 3), (168, 1), (170, 1), (171, 3), (172, 3), (174, 2), (175, 1), (176, 2), (178, 1), (179, 1), (180, 2), (181, 1), (182, 1), (183, 1), (184, 2), (185, 1), (187, 1), (191, 1), (192, 1), (194, 2), (195, 1), (197, 1), (198, 1), (199, 1), (200, 1), (201, 2), (202, 3), (203, 3), (205, 1), (206, 2), (207, 2), (208, 2), (209, 3), (212, 1), (214, 2), (215, 1), (216, 1), (218, 2), (220, 2), (221, 1), (222, 1), (224, 4), (226, 2), (227, 1), (230, 1), (231, 1), (232, 2), (234, 2), (235, 1), (236, 2), (237, 2), (238, 1), (240, 2), (241, 3), (243, 2), (245, 2), (247, 1), (248, 2), (250, 1), (251, 3), (253, 1), (254, 1), (255, 1), (256, 1), (258, 2), (259, 2), (260, 3), (263, 4), (264, 1), (266, 1), (267, 3), (268, 1), (270, 3), (271, 1), (273, 2), (274, 1), (275, 1), (276, 1), (278, 2), (279, 1), (280, 1), (284, 2), (286, 1), (288, 2), (291, 2), (292, 1), (293, 1), (294, 1), (295, 2), (297, 3), (301, 2), (302, 1), (304, 1), (305, 3), (306, 1), (307, 1), (308, 1), (310, 1), (311, 2), (312, 3), (313, 2), (314, 3), (315, 2), (316, 1), (317, 2), (318, 3), (319, 2), (320, 1), (321, 3), (323, 1), (324, 1), (325, 1), (326, 1), (328, 3), (329, 2), (331, 1), (332, 2), (333, 1), (334, 1), (335, 1), (336, 3), (337, 6), (338, 1), (340, 1), (342, 2), (344, 2), (345, 5), (346, 2), (350, 1), (351, 1), (353, 2), (354, 1), (356, 3), (357, 2), (358, 2), (359, 2), (360, 1), (362, 1), (363, 2), (364, 2), (365, 1), (367, 1), (368, 1), (369, 1), (370, 2), (372, 2), (373, 1), (375, 1), (376, 1), (377, 3), (379, 3), (380, 1), (382, 1), (383, 1), (386, 1), (387, 1), (388, 1), (389, 2), (390, 1), (392, 1), (394, 1), (398, 1), (399, 5), (400, 1), (401, 3), (403, 1), (405, 1), (406, 2), (408, 1), (409, 1), (410, 1), (412, 2), (413, 1), (414, 1), (415, 4), (417, 1), (418, 1), (419, 2), (420, 3), (422, 1), (424, 1), (425, 1), (426, 3), (427, 2), (428, 1), (429, 2), (430, 1), (431, 1), (432, 1), (433, 2), (434, 2), (435, 3), (436, 2), (437, 1), (438, 1), (439, 2), (440, 1), (441, 4), (442, 1), (443, 1), (444, 3), (445, 2), (446, 2), (447, 1), (449, 1), (450, 1), (452, 1), (455, 2), (456, 1), (458, 3), (459, 2), (460, 2), (461, 1), (462, 2), (463, 3), (464, 4), (465, 3), (466, 3), (467, 1), (468, 1), (470, 1), (472, 1), (473, 1), (474, 3), (477, 3), (478, 3), (479, 1), (480, 1), (481, 2), (483, 3), (484, 4), (485, 1), (486, 1), (487, 2), (488, 3), (489, 2), (490, 1), (493, 4), (495, 2), (496, 2), (497, 1), (498, 1), (499, 1), (500, 13), (501, 22), (502, 11), (503, 20), (504, 11), (505, 15), (506, 22), (507, 17), (508, 13), (509, 10), (510, 21), (511, 11), (512, 15), (513, 13), (514, 16), (515, 17), (516, 15), (517, 22), (518, 21), (519, 25), (520, 21), (521, 17), (522, 20), (523, 27), (524, 22), (525, 13), (526, 14), (527, 19), (528, 8), (529, 12), (530, 18), (531, 22), (532, 17), (533, 12), (534, 10), (535, 16), (536, 13), (537, 24), (538, 26), (539, 19), (540, 22), (541, 16), (542, 21), (543, 25), (544, 19), (545, 9), (546, 14), (547, 22), (548, 18), (549, 19), (550, 24), (551, 27), (552, 16), (553, 15), (554, 15), (555, 15), (556, 18), (557, 17), (558, 16), (559, 20), (560, 19), (561, 30), (562, 19), (563, 18), (564, 17), (565, 19), (566, 23), (567, 14), (568, 11), (569, 15), (570, 21), (571, 16), (572, 20), (573, 16), (574, 16), (575, 17), (576, 25), (577, 18), (578, 13), (579, 13), (580, 15), (581, 20), (582, 10), (583, 16), (584, 18), (585, 16), (586, 15), (587, 19), (588, 15), (589, 23), (590, 26), (591, 15), (592, 24), (593, 16), (594, 17), (595, 19), (596, 26), (597, 21), (598, 20), (599, 13), (600, 19), (601, 15), (602, 16), (603, 16), (604, 23), (605, 17), (606, 17), (607, 15), (608, 13), (609, 28), (610, 17), (611, 15), (612, 16), (613, 24), (614, 19), (615, 14), (616, 16), (617, 18), (618, 22), (619, 14), (620, 13), (621, 15), (622, 18), (623, 24), (624, 21), (625, 15), (626, 15), (627, 23), (628, 22), (629, 17), (630, 16), (631, 19), (632, 16), (633, 23), (634, 27), (635, 20), (636, 16), (637, 19), (638, 20), (639, 17), (640, 19), (641, 15), (642, 21), (643, 17), (644, 13), (645, 8), (646, 13), (647, 17), (648, 15), (649, 17), (650, 25), (651, 18), (652, 19), (653, 17), (654, 16), (655, 8), (656, 20), (657, 10), (658, 15), (659, 20), (660, 16), (661, 14), (662, 13), (663, 17), (664, 15), (665, 20), (666, 22), (667, 13), (668, 20), (669, 25), (670, 21), (671, 20), (672, 20), (673, 19), (674, 17), (675, 15), (676, 17), (677, 19), (678, 14), (679, 23), (680, 13), (681, 19), (682, 13), (683, 23), (684, 13), (685, 16), (686, 7), (687, 13), (688, 13), (689, 18), (690, 19), (691, 13), (692, 20), (693, 11), (694, 17), (695, 18), (696, 12), (697, 19), (698, 17), (699, 22), (700, 20), (701, 21), (702, 17), (703, 17), (704, 21), (705, 15), (706, 15), (707, 24), (708, 10), (709, 24), (710, 20), (711, 21), (712, 20), (713, 26), (714, 14), (715, 13), (716, 18), (717, 19), (718, 23), (719, 25), (720, 17), (721, 14), (722, 16), (723, 15), (724, 21), (725, 12), (726, 21), (727, 19), (728, 21), (729, 24), (730, 24), (731, 19), (732, 18), (733, 16), (734, 23), (735, 25), (736, 18), (737, 21), (738, 13), (739, 17), (740, 18), (741, 25), (742, 18), (743, 14), (744, 25), (745, 15), (746, 22), (747, 15), (748, 23), (749, 14), (750, 23), (751, 18), (752, 18), (753, 18), (754, 23), (755, 14), (756, 24), (757, 17), (758, 14), (759, 21), (760, 17), (761, 18), (762, 11), (763, 17), (764, 14), (765, 18), (766, 14), (767, 26), (768, 9), (769, 12), (770, 22), (771, 15), (772, 13), (773, 18), (774, 14), (775, 11), (776, 11), (777, 19), (778, 24), (779, 15), (780, 21), (781, 14), (782, 16), (783, 17), (784, 19), (785, 20), (786, 16), (787, 12), (788, 15), (789, 19), (790, 22), (791, 17), (792, 20), (793, 22), (794, 22), (795, 22), (796, 10), (797, 19), (798, 20), (799, 13), (801, 1), (803, 1), (804, 4), (805, 1), (806, 1), (809, 1), (810, 3), (811, 1), (812, 1), (813, 1), (814, 1), (815, 2), (816, 1), (817, 1), (818, 1), (819, 1), (821, 1), (822, 1), (823, 2), (829, 2), (831, 1), (832, 1), (836, 4), (837, 3), (838, 4), (839, 2), (840, 1), (842, 3), (844, 1), (845, 2), (846, 1), (847, 3), (849, 3), (850, 1), (851, 2), (852, 1), (853, 1), (855, 1), (856, 2), (857, 1), (858, 1), (859, 1), (860, 1), (862, 2), (864, 2), (865, 2), (866, 1), (867, 1), (868, 1), (869, 2), (870, 3), (873, 3), (875, 2), (876, 2), (877, 3), (878, 1), (879, 2), (880, 1), (882, 2), (883, 1), (885, 1), (886, 1), (889, 1), (890, 1), (891, 2), (892, 1), (896, 4), (897, 2), (898, 1), (899, 4), (900, 1), (901, 1), (902, 3), (906, 3), (909, 3), (910, 1), (912, 2), (913, 2), (914, 2), (915, 1), (916, 1), (918, 2), (919, 1), (920, 1), (921, 2), (922, 2), (923, 1), (924, 1), (925, 2), (927, 2), (929, 1), (930, 1), (931, 3), (935, 1), (936, 4), (937, 1), (938, 1), (939, 2), (940, 1), (941, 3), (945, 1), (946, 3), (947, 1), (948, 1), (949, 2), (952, 2), (955, 1), (958, 1), (959, 1), (960, 2), (961, 2), (962, 1), (963, 2), (965, 1), (966, 1), (967, 1), (968, 2), (970, 1), (971, 1), (972, 1), (973, 1), (975, 1), (976, 1), (977, 2), (978, 2), (979, 1), (980, 3), (981, 1), (982, 1), (985, 2), (986, 2), (989, 1), (990, 1), (991, 1), (992, 2), (993, 4), (994, 1), (995, 2), (996, 3), (997, 2), (998, 1), (999, 2)]\n",
      "Average products  7.639060568603214\n"
     ]
    }
   ],
   "source": [
    "reuslt = cur.execute(\"SELECT fabId, COUNT(*) FROM products WHERE catID = ? GROUP BY fabId  ORDER BY fabId\", (catId,)).fetchall()\n",
    "print ('Total acotrs ', reuslt)\n",
    "print ('Average products ', sum([x[1] for x in reuslt]) / len(reuslt))"
   ]
  },
  {
   "cell_type": "markdown",
   "metadata": {},
   "source": [
    "#### Quels sont le top 10 des magasins parmi les magID enregistrés dans la base? N.B.: il faut définir formellement la notion d’être dans le top 10."
   ]
  },
  {
   "cell_type": "code",
   "execution_count": 15,
   "metadata": {},
   "outputs": [
    {
     "name": "stdout",
     "output_type": "stream",
     "text": [
      "Top 10 magasins  [(61, 437), (65, 436), (69, 425), (68, 418), (60, 414), (67, 411), (63, 406), (51, 406), (66, 405), (64, 405)]\n"
     ]
    }
   ],
   "source": [
    "reuslt = cur.execute(\"SELECT magID, COUNT(*) FROM categories GROUP BY magID ORDER BY COUNT(*) DESC LIMIT 10\").fetchall()\n",
    "print ('Top 10 magasins ', reuslt)\n"
   ]
  },
  {
   "cell_type": "markdown",
   "metadata": {},
   "source": [
    "\n",
    "#### Pour le fabricant d’identifiant 1664, et parmi le top 10 des magasins vendant les produits de la catégorie d’identifiant 5, quel est en moyenne la part du nombre de produits qu’offre le fabricant 1664 dans l’ensemble des produits de catégorie 5 en vente dans ces magasins?\n"
   ]
  },
  {
   "cell_type": "code",
   "execution_count": 16,
   "metadata": {},
   "outputs": [
    {
     "name": "stdout",
     "output_type": "stream",
     "text": [
      "Top 10 magasins and 1664  [(61, 437), (65, 436), (69, 425), (68, 418), (60, 414), (67, 411), (63, 406), (51, 406), (66, 405), (64, 405)]\n",
      "Average of the top 10 shops and 1664  416.3\n"
     ]
    }
   ],
   "source": [
    "shops = reuslt # add 1664\n",
    "\n",
    "reuslt = cur.execute(\"SELECT magID, COUNT(*) FROM categories WHERE fabID = 1664 GROUP BY magID ORDER BY COUNT(*) DESC LIMIT 10\").fetchall()\n",
    "shops.extend(reuslt)\n",
    "print ('Top 10 magasins and 1664 ', shops)\n",
    "\n",
    "print ('Average of the top 10 shops and 1664 ', sum([x[1] for x in shops]) / len(shops))"
   ]
  },
  {
   "cell_type": "markdown",
   "metadata": {},
   "source": [
    "#### Pour la catégorie d’identifiant 5, combien y a-t-il d’acteurs sur le marché ayant un produit de cette catégorie en Janvier, en Février, et en Mars?"
   ]
  },
  {
   "cell_type": "code",
   "execution_count": 17,
   "metadata": {},
   "outputs": [
    {
     "name": "stdout",
     "output_type": "stream",
     "text": [
      "Total actors in January, February, and March: 809\n"
     ]
    }
   ],
   "source": [
    "catId = 5\n",
    "start_date = 20220101\n",
    "end_date = 20220331\n",
    "\n",
    "result = cur.execute(\"SELECT DISTINCT fabID FROM products WHERE catID = ? AND dateID BETWEEN ? AND ?\",\n",
    "                     (catId, start_date, end_date)).fetchall()\n",
    "\n",
    "total = len(result)\n",
    "print('Total actors in January, February, and March:', total)\n"
   ]
  },
  {
   "cell_type": "markdown",
   "metadata": {},
   "source": [
    "#### Idem avec des valeurs prises pendant les soldes d’hiver (Janvier)."
   ]
  },
  {
   "cell_type": "code",
   "execution_count": 18,
   "metadata": {},
   "outputs": [
    {
     "name": "stdout",
     "output_type": "stream",
     "text": [
      "Total actors in January: 801\n"
     ]
    }
   ],
   "source": [
    "start_date = 20220101\n",
    "end_date = 20220131\n",
    "\n",
    "result = cur.execute(\"SELECT DISTINCT fabID FROM products WHERE catID = ? AND dateID BETWEEN ? AND ?\",\n",
    "                     (catId, start_date, end_date)).fetchall()\n",
    "\n",
    "total = len(result)\n",
    "print('Total actors in January:', total)"
   ]
  },
  {
   "cell_type": "markdown",
   "metadata": {},
   "source": [
    "\n",
    "#### Idem avec des valeurs prises pendant les soldes d’hiver (Janvier) et celles d’été (Juillet)."
   ]
  },
  {
   "cell_type": "code",
   "execution_count": 19,
   "metadata": {},
   "outputs": [
    {
     "name": "stdout",
     "output_type": "stream",
     "text": [
      "Total actors in January and July (Winter and Summer sales combined): 801\n"
     ]
    }
   ],
   "source": [
    "start_date_winter = 20220101\n",
    "end_date_winter = 20220131\n",
    "start_date_summer = 20220701\n",
    "end_date_summer = 20220731\n",
    "\n",
    "result_winter = cur.execute(\"SELECT DISTINCT fabID FROM products WHERE catID = ? AND dateID BETWEEN ? AND ?\",\n",
    "                            (catId, start_date_winter, end_date_winter)).fetchall()\n",
    "\n",
    "result_summer = cur.execute(\"SELECT DISTINCT fabID FROM products WHERE catID = ? AND dateID BETWEEN ? AND ?\",\n",
    "                            (catId, start_date_summer, end_date_summer)).fetchall()\n",
    "\n",
    "total_winter = len(result_winter)\n",
    "total_summer = len(result_summer)\n",
    "print('Total actors in January and July (Winter and Summer sales combined):', total_winter + total_summer)"
   ]
  },
  {
   "cell_type": "markdown",
   "metadata": {},
   "source": [
    "\n",
    "#### Idem pour la question 1.4., avec des valeurs prises une fois tous les mois du 1er Janvier 2022 jusqu’au jour du jour.\n",
    "Define the start date as January 1, 2022"
   ]
  },
  {
   "cell_type": "code",
   "execution_count": 20,
   "metadata": {},
   "outputs": [
    {
     "name": "stdout",
     "output_type": "stream",
     "text": [
      "Total actors for each month from January 2022 until today: 809\n"
     ]
    }
   ],
   "source": [
    "start_date = 20220101\n",
    "current_date = int(datetime.datetime.now().strftime('%Y%m%d'))\n",
    "\n",
    "\n",
    "distinct_fabids = []\n",
    "\n",
    "\n",
    "current_month = int(datetime.datetime.now().strftime('%Y%m')) # https://stackoverflow.com/questions/32490629/getting-todays-date-in-yyyy-mm-dd-in-python\n",
    "while start_date <= current_date:\n",
    "    result = cur.execute(\"SELECT DISTINCT fabID FROM products WHERE catID = ? AND dateID BETWEEN ? AND ?\",\n",
    "                         (catId, start_date, start_date + 31)).fetchall()\n",
    "    \n",
    "    distinct_fabids.extend([fabid[0] for fabid in result])\n",
    "\n",
    "\n",
    "    start_date = int((datetime.datetime.strptime(str(start_date), '%Y%m%d') + datetime.timedelta(days=32)).strftime('%Y%m%d'))\n",
    "\n",
    "total_actors = len(set(distinct_fabids))\n",
    "\n",
    "print('Total actors for each month from January 2022 until today:', total_actors)"
   ]
  }
 ],
 "metadata": {
  "kernelspec": {
   "display_name": ".venv",
   "language": "python",
   "name": "python3"
  },
  "language_info": {
   "codemirror_mode": {
    "name": "ipython",
    "version": 3
   },
   "file_extension": ".py",
   "mimetype": "text/x-python",
   "name": "python",
   "nbconvert_exporter": "python",
   "pygments_lexer": "ipython3",
   "version": "3.11.3"
  },
  "orig_nbformat": 4
 },
 "nbformat": 4,
 "nbformat_minor": 2
}
